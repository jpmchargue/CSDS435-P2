{
 "cells": [
  {
   "cell_type": "code",
   "execution_count": 26,
   "metadata": {},
   "outputs": [
    {
     "name": "stdout",
     "output_type": "stream",
     "text": [
      "The autoreload extension is already loaded. To reload it, use:\n",
      "  %reload_ext autoreload\n"
     ]
    }
   ],
   "source": [
    "%load_ext autoreload\n",
    "%autoreload 2"
   ]
  },
  {
   "cell_type": "code",
   "execution_count": 27,
   "metadata": {},
   "outputs": [
    {
     "name": "stdout",
     "output_type": "stream",
     "text": [
      "Gathering vocabulary...\n"
     ]
    },
    {
     "name": "stderr",
     "output_type": "stream",
     "text": [
      "100%|██████████| 4061/4061 [00:00<00:00, 44859.75it/s]\n"
     ]
    },
    {
     "name": "stdout",
     "output_type": "stream",
     "text": [
      "Generating vectors...\n"
     ]
    },
    {
     "name": "stderr",
     "output_type": "stream",
     "text": [
      "100%|██████████| 4061/4061 [00:00<00:00, 47862.23it/s]\n"
     ]
    },
    {
     "name": "stdout",
     "output_type": "stream",
     "text": [
      "Generating text file...\n",
      "Generating distance matrix...\n"
     ]
    },
    {
     "name": "stderr",
     "output_type": "stream",
     "text": [
      "100%|██████████| 4060/4060 [03:25<00:00, 19.75it/s] \n"
     ]
    }
   ],
   "source": [
    "import distance\n",
    "\n",
    "parser = distance.Parser()\n",
    "d_matrix = parser.get_distance_matrix('cnnhealth.txt', distance.euclidean_distance)"
   ]
  },
  {
   "cell_type": "code",
   "execution_count": 28,
   "metadata": {},
   "outputs": [
    {
     "name": "stdout",
     "output_type": "stream",
     "text": [
      "Gathering vocabulary...\n"
     ]
    },
    {
     "name": "stderr",
     "output_type": "stream",
     "text": [
      "100%|██████████| 4061/4061 [00:00<00:00, 57410.71it/s]\n"
     ]
    },
    {
     "name": "stdout",
     "output_type": "stream",
     "text": [
      "Generating vectors...\n"
     ]
    },
    {
     "name": "stderr",
     "output_type": "stream",
     "text": [
      "100%|██████████| 4061/4061 [00:00<00:00, 60684.14it/s]"
     ]
    },
    {
     "name": "stdout",
     "output_type": "stream",
     "text": [
      "Generating text file...\n"
     ]
    },
    {
     "name": "stderr",
     "output_type": "stream",
     "text": [
      "\n"
     ]
    }
   ],
   "source": [
    "bow = parser.get_bag_of_words(\"cnnhealth.txt\")"
   ]
  },
  {
   "cell_type": "code",
   "execution_count": 29,
   "metadata": {},
   "outputs": [
    {
     "name": "stdout",
     "output_type": "stream",
     "text": [
      "Clustering with single link...\n",
      "[0 1 2 3 4 5 6 7]\n",
      "[4054    1    1    1    1    1    1    1]\n"
     ]
    }
   ],
   "source": [
    "from single_link import SingleLink\n",
    "import numpy as np\n",
    "\n",
    "sl = SingleLink(num_clusters=8)\n",
    "sl_clusters = sl.cluster(d_matrix)\n",
    "unique, counts = np.unique(sl_clusters, return_counts=True)\n",
    "print(unique)\n",
    "print(counts)"
   ]
  },
  {
   "cell_type": "code",
   "execution_count": 33,
   "metadata": {},
   "outputs": [
    {
     "name": "stdout",
     "output_type": "stream",
     "text": [
      "Clustering with average linkage...\n",
      "[0 1 2 3 4 5 6 7]\n",
      "[4052    1    3    1    1    1    1    1]\n"
     ]
    }
   ],
   "source": [
    "from average_linkage import AverageLinkage\n",
    "\n",
    "al = AverageLinkage(num_clusters=8)\n",
    "al_clusters = al.cluster(d_matrix)\n",
    "unique, counts = np.unique(al_clusters, return_counts=True)\n",
    "print(unique)\n",
    "print(counts)"
   ]
  },
  {
   "cell_type": "code",
   "execution_count": 36,
   "metadata": {},
   "outputs": [
    {
     "name": "stdout",
     "output_type": "stream",
     "text": [
      "Clustering with K-Medoids...\n",
      "[0 1 2 3 4 5 6 7]\n",
      "[2249  600    8  417   28  438  176  145]\n"
     ]
    }
   ],
   "source": [
    "from kmedoids import KMedoidsClustering\n",
    "\n",
    "kmed = KMedoidsClustering(num_clusters=8)\n",
    "kmed_clusters = kmed.cluster(d_matrix)\n",
    "unique, counts = np.unique(kmed_clusters, return_counts=True)\n",
    "print(unique)\n",
    "print(counts)"
   ]
  },
  {
   "cell_type": "code",
   "execution_count": 32,
   "metadata": {},
   "outputs": [
    {
     "name": "stdout",
     "output_type": "stream",
     "text": [
      "Clustering with dbscan(eps=2.0)...\n",
      "[-1  0  1]\n",
      "[4047    7    7]\n",
      "Clustering with dbscan(eps=2.2)...\n",
      "[-1  0  1]\n",
      "[4047    7    7]\n",
      "Clustering with dbscan(eps=2.4)...\n",
      "[-1  0  1  2  3  4  5  6]\n",
      "[3972   48    7    5    5    6   11    7]\n",
      "Clustering with dbscan(eps=2.6)...\n",
      "[-1  0  1  2  3  4]\n",
      "[3816  210   16    7    5    7]\n",
      "Clustering with dbscan(eps=2.8)...\n",
      "[-1  0  1  2  3]\n",
      "[3493  549    7    5    7]\n",
      "Clustering with dbscan(eps=3.0)...\n",
      "[-1  0  1  2]\n",
      "[2819 1228    7    7]\n",
      "Clustering with dbscan(eps=3.2)...\n",
      "[-1  0  1  2]\n",
      "[2505 1536   13    7]\n",
      "Clustering with dbscan(eps=3.4)...\n",
      "[-1  0  1]\n",
      "[2224 1830    7]\n",
      "Clustering with dbscan(eps=3.6)...\n",
      "[-1  0  1]\n",
      "[1978 2076    7]\n",
      "Clustering with dbscan(eps=3.8)...\n",
      "[-1  0  1]\n",
      "[1560 2494    7]\n"
     ]
    }
   ],
   "source": [
    "from dbscan import DBScanClustering\n",
    "\n",
    "for eps in range(10):\n",
    "    db = DBScanClustering(eps=eps / 5 + 2)\n",
    "    db_clusters = db.cluster(d_matrix)\n",
    "    unique, counts = np.unique(db_clusters, return_counts=True)\n",
    "    print(unique)\n",
    "    print(counts)"
   ]
  },
  {
   "cell_type": "code",
   "execution_count": 52,
   "metadata": {},
   "outputs": [
    {
     "name": "stdout",
     "output_type": "stream",
     "text": [
      "Clustering with spectral clustering...\n",
      "[0 1 2 3 4 5 6 7]\n",
      "[ 422    1 1076  485  546  485  482  564]\n"
     ]
    }
   ],
   "source": [
    "from spectral import SpecClustering\n",
    "import math\n",
    "\n",
    "sp = SpecClustering(num_clusters=8)\n",
    "sp_clusters = sp.cluster(d_matrix)\n",
    "unique, counts = np.unique(sp_clusters, return_counts=True)\n",
    "print(unique)\n",
    "print(counts)"
   ]
  }
 ],
 "metadata": {
  "kernelspec": {
   "display_name": "Python 3",
   "language": "python",
   "name": "python3"
  },
  "language_info": {
   "codemirror_mode": {
    "name": "ipython",
    "version": 3
   },
   "file_extension": ".py",
   "mimetype": "text/x-python",
   "name": "python",
   "nbconvert_exporter": "python",
   "pygments_lexer": "ipython3",
   "version": "3.9.13"
  },
  "orig_nbformat": 4
 },
 "nbformat": 4,
 "nbformat_minor": 2
}
