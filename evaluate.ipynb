{
 "cells": [
  {
   "cell_type": "code",
   "execution_count": 1,
   "metadata": {},
   "outputs": [],
   "source": [
    "%load_ext autoreload\n",
    "%autoreload 2"
   ]
  },
  {
   "cell_type": "code",
   "execution_count": 2,
   "metadata": {},
   "outputs": [
    {
     "name": "stdout",
     "output_type": "stream",
     "text": [
      "Gathering vocabulary...\n"
     ]
    },
    {
     "name": "stderr",
     "output_type": "stream",
     "text": [
      "100%|██████████| 4061/4061 [00:00<00:00, 37421.83it/s]\n"
     ]
    },
    {
     "name": "stdout",
     "output_type": "stream",
     "text": [
      "Generating vectors...\n"
     ]
    },
    {
     "name": "stderr",
     "output_type": "stream",
     "text": [
      "100%|██████████| 4061/4061 [00:00<00:00, 32129.86it/s]\n"
     ]
    },
    {
     "name": "stdout",
     "output_type": "stream",
     "text": [
      "Generating text file...\n",
      "Gathering vocabulary...\n"
     ]
    },
    {
     "name": "stderr",
     "output_type": "stream",
     "text": [
      "100%|██████████| 4061/4061 [00:00<00:00, 44647.04it/s]\n"
     ]
    },
    {
     "name": "stdout",
     "output_type": "stream",
     "text": [
      "Generating vectors...\n"
     ]
    },
    {
     "name": "stderr",
     "output_type": "stream",
     "text": [
      "100%|██████████| 4061/4061 [00:00<00:00, 58250.24it/s]"
     ]
    },
    {
     "name": "stdout",
     "output_type": "stream",
     "text": [
      "Generating text file...\n"
     ]
    },
    {
     "name": "stderr",
     "output_type": "stream",
     "text": [
      "\n"
     ]
    },
    {
     "name": "stdout",
     "output_type": "stream",
     "text": [
      "Generating distance matrix...\n"
     ]
    },
    {
     "name": "stderr",
     "output_type": "stream",
     "text": [
      "100%|██████████| 4060/4060 [02:32<00:00, 26.65it/s] \n"
     ]
    }
   ],
   "source": [
    "import distance\n",
    "\n",
    "parser = distance.Parser()\n",
    "d_matrix = parser.get_distance_matrix('cnnhealth.txt', distance.euclidean_distance)"
   ]
  },
  {
   "cell_type": "code",
   "execution_count": 15,
   "metadata": {},
   "outputs": [
    {
     "name": "stdout",
     "output_type": "stream",
     "text": [
      "Gathering vocabulary...\n"
     ]
    },
    {
     "name": "stderr",
     "output_type": "stream",
     "text": [
      "100%|██████████| 4061/4061 [00:00<00:00, 38759.53it/s]\n"
     ]
    },
    {
     "name": "stdout",
     "output_type": "stream",
     "text": [
      "Generating vectors...\n"
     ]
    },
    {
     "name": "stderr",
     "output_type": "stream",
     "text": [
      "100%|██████████| 4061/4061 [00:00<00:00, 55245.31it/s]\n"
     ]
    },
    {
     "name": "stdout",
     "output_type": "stream",
     "text": [
      "Generating text file...\n",
      "Generating distance matrix...\n"
     ]
    },
    {
     "name": "stderr",
     "output_type": "stream",
     "text": [
      "100%|██████████| 4060/4060 [03:10<00:00, 21.26it/s] \n"
     ]
    }
   ],
   "source": [
    "d_matrix_m = parser.get_distance_matrix('cnnhealth.txt', distance.manhattan_distance)"
   ]
  },
  {
   "cell_type": "code",
   "execution_count": 26,
   "metadata": {},
   "outputs": [],
   "source": [
    "s_matrix = np.max(d_matrix) - d_matrix\n",
    "s_matrix_m = np.max(d_matrix_m) - d_matrix_m\n",
    "\n",
    "d_matrices = [d_matrix, d_matrix_m]\n",
    "s_matrices = [s_matrix, s_matrix_m]\n",
    "\n",
    "def eval(model, sim = False):\n",
    "    clusters = [None, None]\n",
    "    for i, m in enumerate(s_matrices if sim else d_matrices):\n",
    "        print(\"Euclidean\" if i == 0 else \"Manhattan\", \"Distance\")\n",
    "        clusters[i] = model.cluster(m)\n",
    "        unique, counts = np.unique(clusters[i], return_counts=True)\n",
    "        print(unique)\n",
    "        print(counts)\n",
    "    return clusters"
   ]
  },
  {
   "cell_type": "code",
   "execution_count": 3,
   "metadata": {},
   "outputs": [
    {
     "name": "stdout",
     "output_type": "stream",
     "text": [
      "Gathering vocabulary...\n"
     ]
    },
    {
     "name": "stderr",
     "output_type": "stream",
     "text": [
      "100%|██████████| 4061/4061 [00:00<00:00, 54927.13it/s]\n"
     ]
    },
    {
     "name": "stdout",
     "output_type": "stream",
     "text": [
      "Generating vectors...\n"
     ]
    },
    {
     "name": "stderr",
     "output_type": "stream",
     "text": [
      "100%|██████████| 4061/4061 [00:00<00:00, 73686.47it/s]"
     ]
    },
    {
     "name": "stdout",
     "output_type": "stream",
     "text": [
      "Generating text file...\n"
     ]
    },
    {
     "name": "stderr",
     "output_type": "stream",
     "text": [
      "\n"
     ]
    }
   ],
   "source": [
    "bow = parser.get_bag_of_words(\"cnnhealth.txt\")"
   ]
  },
  {
   "cell_type": "code",
   "execution_count": 27,
   "metadata": {},
   "outputs": [
    {
     "name": "stdout",
     "output_type": "stream",
     "text": [
      "Euclidean Distance\n",
      "Clustering with single link...\n",
      "[0 1 2 3 4 5 6 7]\n",
      "[4054    1    1    1    1    1    1    1]\n",
      "Manhattan Distance\n",
      "Clustering with single link...\n",
      "[0 1 2 3 4 5 6 7]\n",
      "[4054    1    1    1    1    1    1    1]\n"
     ]
    }
   ],
   "source": [
    "from single_link import SingleLink\n",
    "\n",
    "sl_clusters = eval(SingleLink(num_clusters=8))"
   ]
  },
  {
   "cell_type": "code",
   "execution_count": 28,
   "metadata": {},
   "outputs": [
    {
     "name": "stdout",
     "output_type": "stream",
     "text": [
      "Euclidean Distance\n",
      "Clustering with average linkage...\n",
      "[0 1 2 3 4 5 6 7]\n",
      "[4052    1    3    1    1    1    1    1]\n",
      "Manhattan Distance\n",
      "Clustering with average linkage...\n",
      "[0 1 2 3 4 5 6 7]\n",
      "[4054    1    1    1    1    1    1    1]\n"
     ]
    }
   ],
   "source": [
    "from average_linkage import AverageLinkage\n",
    "\n",
    "al_clusters = eval(AverageLinkage(num_clusters=8))"
   ]
  },
  {
   "cell_type": "code",
   "execution_count": 29,
   "metadata": {},
   "outputs": [
    {
     "name": "stdout",
     "output_type": "stream",
     "text": [
      "Euclidean Distance\n",
      "Clustering with K-Medoids...\n",
      "[0 1 2 3 4 5 6 7]\n",
      "[2249  600    8  417   28  438  176  145]\n",
      "Manhattan Distance\n",
      "Clustering with K-Medoids...\n",
      "[0 1 2 3 4 5 6 7]\n",
      "[2245  503  534   13  431   30  161  144]\n"
     ]
    }
   ],
   "source": [
    "from kmedoids import KMedoidsClustering\n",
    "\n",
    "kmed_clusters = eval(KMedoidsClustering(num_clusters=8))"
   ]
  },
  {
   "cell_type": "code",
   "execution_count": 30,
   "metadata": {},
   "outputs": [
    {
     "name": "stdout",
     "output_type": "stream",
     "text": [
      "Euclidean Distance\n",
      "Clustering with dbscan(eps=2.0)...\n",
      "[-1  0  1]\n",
      "[4047    7    7]\n",
      "Manhattan Distance\n",
      "Clustering with dbscan(eps=2.0)...\n",
      "[-1  0]\n",
      "[4056    5]\n",
      "Euclidean Distance\n",
      "Clustering with dbscan(eps=2.2)...\n",
      "[-1  0  1]\n",
      "[4047    7    7]\n",
      "Manhattan Distance\n",
      "Clustering with dbscan(eps=2.2)...\n",
      "[-1  0]\n",
      "[4056    5]\n",
      "Euclidean Distance\n",
      "Clustering with dbscan(eps=2.4)...\n",
      "[-1  0  1  2  3  4  5  6]\n",
      "[3972   48    7    5    5    6   11    7]\n",
      "Manhattan Distance\n",
      "Clustering with dbscan(eps=2.4)...\n",
      "[-1  0]\n",
      "[4056    5]\n",
      "Euclidean Distance\n",
      "Clustering with dbscan(eps=2.6)...\n",
      "[-1  0  1  2  3  4]\n",
      "[3816  210   16    7    5    7]\n",
      "Manhattan Distance\n",
      "Clustering with dbscan(eps=2.6)...\n",
      "[-1  0]\n",
      "[4056    5]\n",
      "Euclidean Distance\n",
      "Clustering with dbscan(eps=2.8)...\n",
      "[-1  0  1  2  3]\n",
      "[3493  549    7    5    7]\n",
      "Manhattan Distance\n",
      "Clustering with dbscan(eps=2.8)...\n",
      "[-1  0]\n",
      "[4056    5]\n",
      "Euclidean Distance\n",
      "Clustering with dbscan(eps=3.0)...\n",
      "[-1  0  1  2]\n",
      "[2819 1228    7    7]\n",
      "Manhattan Distance\n",
      "Clustering with dbscan(eps=3.0)...\n",
      "[-1  0  1]\n",
      "[4049    5    7]\n",
      "Euclidean Distance\n",
      "Clustering with dbscan(eps=3.2)...\n",
      "[-1  0  1  2]\n",
      "[2505 1536   13    7]\n",
      "Manhattan Distance\n",
      "Clustering with dbscan(eps=3.2)...\n",
      "[-1  0  1]\n",
      "[4049    5    7]\n",
      "Euclidean Distance\n",
      "Clustering with dbscan(eps=3.4)...\n",
      "[-1  0  1]\n",
      "[2224 1830    7]\n",
      "Manhattan Distance\n",
      "Clustering with dbscan(eps=3.4)...\n",
      "[-1  0  1]\n",
      "[4049    5    7]\n",
      "Euclidean Distance\n",
      "Clustering with dbscan(eps=3.6)...\n",
      "[-1  0  1]\n",
      "[1978 2076    7]\n",
      "Manhattan Distance\n",
      "Clustering with dbscan(eps=3.6)...\n",
      "[-1  0  1]\n",
      "[4049    5    7]\n",
      "Euclidean Distance\n",
      "Clustering with dbscan(eps=3.8)...\n",
      "[-1  0  1]\n",
      "[1560 2494    7]\n",
      "Manhattan Distance\n",
      "Clustering with dbscan(eps=3.8)...\n",
      "[-1  0  1]\n",
      "[4049    5    7]\n"
     ]
    }
   ],
   "source": [
    "from dbscan import DBScanClustering\n",
    "\n",
    "db_clusters = [eval(DBScanClustering(eps=i / 5 + 2)) for i in range(10)]"
   ]
  },
  {
   "cell_type": "code",
   "execution_count": 31,
   "metadata": {},
   "outputs": [
    {
     "name": "stdout",
     "output_type": "stream",
     "text": [
      "Euclidean Distance\n",
      "Clustering with spectral clustering...\n",
      "[0 1 2 3 4 5 6 7]\n",
      "[ 548  484    1  486  479 1076  564  423]\n",
      "Manhattan Distance\n",
      "Clustering with spectral clustering...\n",
      "[0 1 2 3 4 5 6 7]\n",
      "[ 226  356  501  429 1199  417  572  361]\n"
     ]
    }
   ],
   "source": [
    "from spectral import SpecClustering\n",
    "\n",
    "sp_clusters = eval(SpecClustering(num_clusters=8), sim=True)"
   ]
  },
  {
   "cell_type": "code",
   "execution_count": 32,
   "metadata": {},
   "outputs": [
    {
     "name": "stdout",
     "output_type": "stream",
     "text": [
      "Euclidean Distance\n",
      "Clustering with affinity propogation...\n"
     ]
    },
    {
     "name": "stderr",
     "output_type": "stream",
     "text": [
      "c:\\Users\\aaore\\AppData\\Local\\Programs\\Python\\Python39\\lib\\site-packages\\sklearn\\cluster\\_affinity_propagation.py:143: ConvergenceWarning: Affinity propagation did not converge, this model may return degenerate cluster centers and labels.\n",
      "  warnings.warn(\n"
     ]
    },
    {
     "name": "stdout",
     "output_type": "stream",
     "text": [
      "[  0   1   2   3   4   5   6   7   8   9  10  11  12  13  14  15  16  17\n",
      "  18  19  20  21  22  23  24  25  26  27  28  29  30  31  32  33  34  35\n",
      "  36  37  38  39  40  41  42  43  44  45  46  47  48  49  50  51  52  53\n",
      "  54  55  56  57  58  59  60  61  62  63  64  65  66  67  68  69  70  71\n",
      "  72  73  74  75  76  77  78  79  80  81  82  83  84  85  86  87  88  89\n",
      "  90  91  92  93  94  95  96  97  98  99 100 101 102 103 104 105 106 107\n",
      " 108 109 110 111 112 113 114 115 116 117 118 119 120 121 122 123 124 125\n",
      " 126 127 128 129 130 131 132 133 134 135 136 137 138 139 140 141 142 143\n",
      " 144 145 146 147 148 149 150 151 152 153 154 155 156 157 158 159 160 161\n",
      " 162 163 164 165 166 167 168 169 170 171 172 173 174 175 176 177 178 179\n",
      " 180 181 182 183 184 185 186 187 188 189 190 191 192 193 194 195 196 197\n",
      " 198 199 200 201 202 203 204 205 206 207 208 209 210 211 212 213 214 215\n",
      " 216 217 218 219 220 221 222 223 224 225]\n",
      "[  2  25   1   2   1   1   1   1   1   1  16   1   2   1   1   1   1   1\n",
      "   1   1   2   1   2   2   2   1   3   1   1  11   1   1   1   6   6   1\n",
      "   2   2   1   1   2   2   1   1   9   1   1 637   4  13   1   1   1   1\n",
      "   1   1   1   1   1   1   2   2   3  78 258   1   1   1   1   1   1   1\n",
      "   1   1   1   1   1   1   1   1   1   1   2   1   1   1   1   2   1   2\n",
      "  17   1   1   1   1   1   1   1   1   1   1   1   3   1   1   2   1   1\n",
      "   5   4   1   1   2   3   2   2   1   1   1   3   1   2   1   1   1   1\n",
      "   1   2   1   1   2   9  47  62  84   1   1  15   5   2  26 127  43  34\n",
      "   8  91 158  69   9   5   8  51   1   7   5  21  31  84   1  65   2 164\n",
      "  24   4   2   7  64  14  10  16   3  35  80  40  23   1   4   1  68  27\n",
      "   1   2  24   1  37   1   1   2   1   1   6   1   1   1   1 161   1   1\n",
      "   2   2  39   2 214  55   1  62   1   1   2  24  24 139  31   1  18   2\n",
      "  20  21  33  32  58  30  38  31  35   1]\n",
      "Manhattan Distance\n",
      "Clustering with affinity propogation...\n",
      "[  0   1   2   3   4   5   6   7   8   9  10  11  12  13  14  15  16  17\n",
      "  18  19  20  21  22  23  24  25  26  27  28  29  30  31  32  33  34  35\n",
      "  36  37  38  39  40  41  42  43  44  45  46  47  48  49  50  51  52  53\n",
      "  54  55  56  57  58  59  60  61  62  63  64  65  66  67  68  69  70  71\n",
      "  72  73  74  75  76  77  78  79  80  81  82  83  84  85  86  87  88  89\n",
      "  90  91  92  93  94  95  96  97  98  99 100 101 102 103 104 105 106 107\n",
      " 108 109 110 111 112 113 114 115 116 117 118 119 120 121 122 123 124 125\n",
      " 126 127]\n",
      "[  2   1  19   2   1   2   2   2   3   1  14   1   5   5   1   2   1   2\n",
      "   2   1   1 704  13   1   1   1   1   2   3  72   2 351   1   1   1   1\n",
      "   1   1   1   1   2   2  16   1   1   1   1   1   1   1   2   1   1   2\n",
      "   1   5   1   2   2   1   1   1   3   2  57  69   1  21   2  23 147  50\n",
      "  39  10  71 188  81  11  61   1  31  43  84   1  64 193  33   2   7  85\n",
      "  14  90  47  28   1  68  29  27   1   2   1   6 140   1   2   2  37   2\n",
      "   1   2 238  56  62   1   2  21  26 154  32   1  76  21  25  52  24  35\n",
      "  38  40]\n"
     ]
    },
    {
     "name": "stderr",
     "output_type": "stream",
     "text": [
      "c:\\Users\\aaore\\AppData\\Local\\Programs\\Python\\Python39\\lib\\site-packages\\sklearn\\cluster\\_affinity_propagation.py:143: ConvergenceWarning: Affinity propagation did not converge, this model may return degenerate cluster centers and labels.\n",
      "  warnings.warn(\n"
     ]
    }
   ],
   "source": [
    "from affinity import AffinityClustering\n",
    "\n",
    "af_clusters = eval(AffinityClustering(), sim=True)"
   ]
  }
 ],
 "metadata": {
  "kernelspec": {
   "display_name": "Python 3",
   "language": "python",
   "name": "python3"
  },
  "language_info": {
   "codemirror_mode": {
    "name": "ipython",
    "version": 3
   },
   "file_extension": ".py",
   "mimetype": "text/x-python",
   "name": "python",
   "nbconvert_exporter": "python",
   "pygments_lexer": "ipython3",
   "version": "3.9.13"
  },
  "orig_nbformat": 4
 },
 "nbformat": 4,
 "nbformat_minor": 2
}
